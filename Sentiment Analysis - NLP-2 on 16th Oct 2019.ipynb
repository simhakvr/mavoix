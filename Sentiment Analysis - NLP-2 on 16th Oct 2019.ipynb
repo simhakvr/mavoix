{
 "cells": [
  {
   "cell_type": "code",
   "execution_count": 1,
   "metadata": {},
   "outputs": [
    {
     "name": "stderr",
     "output_type": "stream",
     "text": [
      "D:\\ANACONDA - PYTHON\\lib\\site-packages\\ipykernel_launcher.py:33: SettingWithCopyWarning: \n",
      "A value is trying to be set on a copy of a slice from a DataFrame.\n",
      "Try using .loc[row_indexer,col_indexer] = value instead\n",
      "\n",
      "See the caveats in the documentation: http://pandas.pydata.org/pandas-docs/stable/user_guide/indexing.html#returning-a-view-versus-a-copy\n",
      "D:\\ANACONDA - PYTHON\\lib\\site-packages\\ipykernel_launcher.py:35: SettingWithCopyWarning: \n",
      "A value is trying to be set on a copy of a slice from a DataFrame.\n",
      "Try using .loc[row_indexer,col_indexer] = value instead\n",
      "\n",
      "See the caveats in the documentation: http://pandas.pydata.org/pandas-docs/stable/user_guide/indexing.html#returning-a-view-versus-a-copy\n"
     ]
    },
    {
     "data": {
      "text/plain": [
       "0.8640000000000001"
      ]
     },
     "execution_count": 1,
     "metadata": {},
     "output_type": "execute_result"
    }
   ],
   "source": [
    "#Sentiment Analysis\n",
    "import nltk\n",
    "import pandas as pd\n",
    "from nltk.tokenize import sent_tokenize,word_tokenize\n",
    "from nltk.tokenize import RegexpTokenizer  #for Extracting the terms with Particular Pattern\n",
    "from nltk.corpus import stopwords\n",
    "from nltk.stem import WordNetLemmatizer,PorterStemmer\n",
    "\n",
    "amz_rev=pd.read_csv('C:/Users/91868/Desktop/Amazon_Reviews.csv')\n",
    "\n",
    "amz_rev[\"Label\"]=amz_rev[\"Label\"].map({'__label__1 ':0,'__label__2 ':1})\n",
    "\n",
    "from sklearn.model_selection import train_test_split\n",
    "\n",
    "y=amz_rev['Label']\n",
    "amz_rev.drop(columns='Label',inplace=True)\n",
    "X_train,X_test,y_train,y_test=train_test_split(amz_rev,y,test_size=0.2,random_state=42)\n",
    "\n",
    "#next we need to tokenize,stopwords removal, stemming/Lemmatization\n",
    "from nltk.tokenize import RegexpTokenizer\n",
    "\n",
    "tokenizer=RegexpTokenizer(r'\\w+')\n",
    "lemmatizer=WordNetLemmatizer()\n",
    "stemmer=PorterStemmer()\n",
    "\n",
    "def preprocessing(review):\n",
    "    final_tokens=' '\n",
    "    tokens=tokenizer.tokenize(review)\n",
    "    pure_tokens=[token.lower() for token in tokens if token.lower() not in stopwords.words('english')]\n",
    "    lemmas_tokens=[lemmatizer.lemmatize(pure_token) for pure_token in pure_tokens]\n",
    "    final_tokens=final_tokens.join(lemmas_tokens)\n",
    "    return final_tokens\n",
    "X_train['Cleaned_text']=X_train['Review'].apply(preprocessing)\n",
    "\n",
    "X_test['Cleaned_text']=X_test['Review'].apply(preprocessing)\n",
    "\n",
    "from sklearn.feature_extraction.text import TfidfVectorizer\n",
    "vectorizer=TfidfVectorizer()\n",
    "vectorizer.fit(X_train['Cleaned_text'])\n",
    "\n",
    "X_train_Tfidf=vectorizer.transform(X_train['Cleaned_text'])\n",
    "\n",
    "X_test_Tfidf=vectorizer.transform(X_test['Cleaned_text'])\n",
    "\n",
    "from sklearn.naive_bayes import MultinomialNB,GaussianNB\n",
    "from sklearn.metrics import confusion_matrix,roc_curve,roc_auc_score\n",
    "import matplotlib.pyplot as plt\n",
    "\n",
    "#clf=MultinomialNB().fit(X_train_Tfidf,y_train)\n",
    "\n",
    "clf=MultinomialNB()\n",
    "clf.fit(X_train_Tfidf,y_train)\n",
    "\n",
    "y_pred=clf.predict(X_test_Tfidf)\n",
    "confusion_matrix(y_test,y_pred)\n",
    "\n",
    "y_proba_pred=clf.predict_proba(X_test_Tfidf)[::,1]\n",
    "fpr,tpr,thresholds=roc_curve(y_test,y_proba_pred)\n",
    "plt.plot(fpr,tpr)\n",
    "\n",
    "auc=roc_auc_score(y_test,y_proba_pred)\n",
    "auc"
   ]
  },
  {
   "cell_type": "code",
   "execution_count": 2,
   "metadata": {
    "scrolled": true
   },
   "outputs": [
    {
     "name": "stderr",
     "output_type": "stream",
     "text": [
      "D:\\ANACONDA - PYTHON\\lib\\site-packages\\sklearn\\linear_model\\logistic.py:432: FutureWarning: Default solver will be changed to 'lbfgs' in 0.22. Specify a solver to silence this warning.\n",
      "  FutureWarning)\n"
     ]
    },
    {
     "data": {
      "text/plain": [
       "0.8720000000000001"
      ]
     },
     "execution_count": 2,
     "metadata": {},
     "output_type": "execute_result"
    },
    {
     "data": {
      "image/png": "[encoded data removed]",
      "text/plain": [
       "<Figure size 432x288 with 1 Axes>"
      ]
     },
     "metadata": {
      "needs_background": "light"
     },
     "output_type": "display_data"
    }
   ],
   "source": [
    "#Logistic Regression for the above\n",
    "\n",
    "from sklearn.linear_model import LogisticRegression\n",
    "rg=LogisticRegression()\n",
    "rg.fit(X_train_Tfidf,y_train)\n",
    "\n",
    "y_pred=rg.predict(X_test_Tfidf)\n",
    "confusion_matrix(y_test,y_pred)\n",
    "\n",
    "y_proba_pred=rg.predict_proba(X_test_Tfidf)[::,1]\n",
    "fpr,tpr,thresholds=roc_curve(y_test,y_proba_pred)\n",
    "plt.plot(fpr,tpr)\n",
    "\n",
    "auc=roc_auc_score(y_test,y_proba_pred)\n",
    "auc"
   ]
  },
  {
   "cell_type": "code",
   "execution_count": 5,
   "metadata": {},
   "outputs": [
    {
     "name": "stdout",
     "output_type": "stream",
     "text": [
      "  (0, 2454)\t0.13957303974704816\n",
      "  (0, 2300)\t0.1509447463657495\n",
      "  (0, 2287)\t0.2953441016354584\n",
      "  (0, 2252)\t0.07499455538794905\n",
      "  (0, 2233)\t0.12013297888044207\n",
      "  (0, 2221)\t0.2791460794940963\n",
      "  (0, 2128)\t0.09636959580678353\n",
      "  (0, 2073)\t0.1509447463657495\n",
      "  (0, 2071)\t0.1509447463657495\n",
      "  (0, 2021)\t0.11206462463253736\n",
      "  (0, 1962)\t0.2791460794940963\n",
      "  (0, 1959)\t0.1158096566733896\n",
      "  (0, 1943)\t0.1509447463657495\n",
      "  (0, 1918)\t0.13150468549914343\n",
      "  (0, 1572)\t0.12013297888044207\n",
      "  (0, 1504)\t0.13150468549914343\n",
      "  (0, 1482)\t0.1158096566733896\n",
      "  (0, 1429)\t0.09844803387848614\n",
      "  (0, 1409)\t0.11206462463253736\n",
      "  (0, 1391)\t0.1509447463657495\n",
      "  (0, 1385)\t0.1509447463657495\n",
      "  (0, 1376)\t0.12013297888044207\n",
      "  (0, 1337)\t0.1509447463657495\n",
      "  (0, 1300)\t0.13150468549914343\n",
      "  (0, 1262)\t0.1509447463657495\n",
      "  :\t:\n",
      "  (158, 1974)\t0.15884148835808132\n",
      "  (158, 1958)\t0.14687352786525884\n",
      "  (158, 1825)\t0.14212395789321705\n",
      "  (158, 1776)\t0.11328003041922845\n",
      "  (158, 1589)\t0.15884148835808132\n",
      "  (158, 1528)\t0.07623662097123925\n",
      "  (158, 1446)\t0.09885806668223414\n",
      "  (158, 1376)\t0.15235650400807574\n",
      "  (158, 1357)\t0.33355693549014004\n",
      "  (158, 1348)\t0.16677846774507002\n",
      "  (158, 1333)\t0.12770199415622277\n",
      "  (158, 1315)\t0.14687352786525884\n",
      "  (158, 1230)\t0.19143297759692302\n",
      "  (158, 1041)\t0.19143297759692302\n",
      "  (158, 1034)\t0.19143297759692302\n",
      "  (158, 1000)\t0.17701101385992873\n",
      "  (158, 993)\t0.19143297759692302\n",
      "  (158, 964)\t0.10779705427641156\n",
      "  (158, 814)\t0.13793454027108143\n",
      "  (158, 767)\t0.17701101385992873\n",
      "  (158, 704)\t0.19143297759692302\n",
      "  (158, 434)\t0.16677846774507002\n",
      "  (158, 274)\t0.23972032435754417\n",
      "  (158, 264)\t0.19143297759692302\n",
      "  (158, 183)\t0.15884148835808132\n"
     ]
    }
   ],
   "source": [
    "print(X_train_Tfidf)"
   ]
  }
 ],
 "metadata": {
  "kernelspec": {
   "display_name": "Python 3",
   "language": "python",
   "name": "python3"
  },
  "language_info": {
   "codemirror_mode": {
    "name": "ipython",
    "version": 3
   },
   "file_extension": ".py",
   "mimetype": "text/x-python",
   "name": "python",
   "nbconvert_exporter": "python",
   "pygments_lexer": "ipython3",
   "version": "3.7.3"
  }
 },
 "nbformat": 4,
 "nbformat_minor": 2
}
