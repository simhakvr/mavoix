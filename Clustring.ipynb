{
 "cells": [
  {
   "cell_type": "code",
   "execution_count": null,
   "metadata": {},
   "outputs": [],
   "source": [
    "from sklearn.cluster import KMeans\n",
    "import matplotlib.pyplot as plt\n",
    "\n",
    "import numpy as np\n",
    "import pandas as pd\n",
    "\n",
    "mav_df= pd.read_excel('C:/Users/91868/Downloads/mavoix_ml_sample_dataset.xlsx')\n",
    "\n",
    "print(mav_df.isnull().sum())\n",
    "\n",
    "mav_df=mav_df.drop(['Unnamed: 10'],axis=1)\n",
    "mav_df.columns\n",
    "\n",
    "print(mav_df.isnull().sum())\n",
    "print(mav_df.dtypes)\n",
    "\n",
    "req_df=pd.DataFrame(mav_df['Other skills'].str.get_dummies(sep=', '))\n",
    "req_df.dtypes\n",
    "\n",
    "mav_df=mav_df.drop(['Other skills'],axis=1)\n",
    "\n",
    "mav_df=pd.concat([mav_df,req_df], axis=1, ignore_index=False)\n",
    "\n",
    "print(mav_df.isnull().sum())\n",
    "\n",
    "print(mav_df.dtypes)\n",
    "\n",
    "cols_mode = ['Degree','Stream','Current Year Of Graduation','Performance_PG','Performance_UG','Performance_12','Performance_10']\n",
    "\n",
    "mav_df[cols_mode].apply(lambda x: x.fillna(x.mode(), inplace=True))\n",
    "\n",
    "mav_df['Degree'].fillna(mav_df['Degree'].mode()[0],inplace=True)\n",
    "mav_df['Stream'].fillna(mav_df['Stream'].mode()[0], inplace=True)\n",
    "mav_df['Current Year Of Graduation'].fillna(mav_df['Current Year Of Graduation'].mode(), inplace=True)\n",
    "mav_df['Performance_PG'].fillna(mav_df['Performance_PG'].mode()[0], inplace=True)\n",
    "mav_df['Performance_UG'].fillna(mav_df['Performance_UG'].mode()[0], inplace=True)\n",
    "mav_df['Performance_12'].fillna(mav_df['Performance_12'].mode()[0], inplace=True)\n",
    "mav_df['Performance_10'].fillna(mav_df['Performance_10'].mode()[0], inplace=True)\n",
    "\n",
    "print(mav_df.isnull().sum())\n",
    "\n",
    "y=mav_df['Application_ID']\n",
    "mav_df=mav_df.drop(['Application_ID'],axis=1)\n",
    "catcols=[ele for ele in mav_df.columns if mav_df[ele].dtype==object]\n",
    "from sklearn.preprocessing import LabelEncoder\n",
    "for col in catcols:\n",
    "    le=LabelEncoder()\n",
    "    mav_df[col]=le.fit_transform(mav_df[col])\n",
    "\n",
    "kmeans = KMeans(n_clusters=2,random_state=100)\n",
    "kmeans.fit(mav_df)\n",
    "\n",
    "mav_df['label']=kmeans.labels_\n",
    "\n",
    "df=pd.DataFrame({'Application_ID':y,'Cluster_Number':mav_df['label']})\n",
    "df"
   ]
  }
 ],
 "metadata": {
  "kernelspec": {
   "display_name": "Python 3",
   "language": "python",
   "name": "python3"
  },
  "language_info": {
   "codemirror_mode": {
    "name": "ipython",
    "version": 3
   },
   "file_extension": ".py",
   "mimetype": "text/x-python",
   "name": "python",
   "nbconvert_exporter": "python",
   "pygments_lexer": "ipython3",
   "version": "3.7.3"
  }
 },
 "nbformat": 4,
 "nbformat_minor": 2
}
